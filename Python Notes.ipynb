{
 "cells": [
  {
   "cell_type": "markdown",
   "id": "3e4f042b",
   "metadata": {},
   "source": [
    "# General Python project structure\n",
    "\n",
    "The general structure of a Python project is such that "
   ]
  },
  {
   "cell_type": "markdown",
   "id": "48a6b009",
   "metadata": {},
   "source": [
    "# Module Structure, Imports, Etc. \n",
    "\n",
    "Imports can be done relative to the path of the current script by use of multiple periods. So `from . import foo` means import the module `foo` from the current directory. `from .. import foo` means import `foo` from the parent directory of the current directory. In additoin, `from ..bar.biz import foo` means import `foo` from the `biz` module from the `bar` module, with the `bar` module living in the parent directory."
   ]
  },
  {
   "cell_type": "markdown",
   "id": "fdcc9cf9",
   "metadata": {},
   "source": [
    "# PYTHON OS.PATH MODULE\n",
    "\n",
    "The path structure is dependent on the operating system that Python is running on. So Windows machines will naturallly use `ntpath` and Unix uses `posixpath`. If you want to use one specific convention over the other, you can instead import `posixpath` or `ntpath` which will provide the same interface as the `os.path` moodule. So you can use `import posixpath` to use the posix style path convention on a Windows machine if you want. \n",
    "\n",
    "`os.path.realpath`: Derefernces symbolic links to get the canonical path\n",
    "\n",
    "`os.path.split`: Splits path into tuple of (head, tail). The tail part will never contain a slash so if the path ends with a slash, then the tail will be empty. \n",
    "\n",
    "`os.path.normpath`: Takes a pathname and collapses redundant separators and up-level references. So on a posix system, `a//b` and `a/b/` and `a/./b` and `a/foo/../b` become `a/b` since the extra slashes or up-level references are redundant. On Windows, it can be used to convert forward slashes in path names to backward slashes. "
   ]
  },
  {
   "cell_type": "markdown",
   "id": "13e8bd47",
   "metadata": {},
   "source": [
    "# Underscores\n",
    "\n",
    "A single underscore is used to indicate a method or attribute is private. This also means that functions and objects prefaced with a single underscore will not be imported when using an `import` statement. \n",
    "\n",
    "A double underscore in front of a method or attribute results in name mangling. This means that an attribute like `__bar` inside the class `Foo` can only be accessed by calling something like `<obj-instance>._Foo__bar` instead of `<obj-instance>.__bar`. This avoids namespace conflicts, particularly with subclasses since subclasses can override methods or attributes and the interpreter will use these overwritten methods/attributes first if it can before going to the parent classes. \n",
    "\n",
    "A double underscore in front and back of a method or attribute means that the method/attribute is a 'magic' or 'dunder' method or attribute. These things are meant for the internal, back-end use by the Python interpreter for resolving certain things in the language. For example, the `__str__` dunder method indicates how the object should be displayed as a string when calling `str(<obj-instance>)`. "
   ]
  },
  {
   "cell_type": "markdown",
   "id": "29613540",
   "metadata": {},
   "source": [
    "# asyncio\n",
    "\n",
    "This module allows for writing concurrent code using the `async` and `await` keywords. The `asyncio` event loop is responsible for processing the callbacks and asynchronous tasks. The basic concept of the loop is similar to that of the JS event loop, in which asynchronous tasks are placed in a queue and executed in order. \n",
    "\n",
    "Defining an asynchronous function or coroutine is done with the `async` keyword. For example:\n",
    "\n",
    "```\n",
    "async def func():\n",
    "    print('hello world')\n",
    "```\n",
    "\n",
    "When call this function as `func()`, the function will create a coroutine object. However, the object won't run until it is \"awaited\". Therefore, you need to call `await func()`. Basically, the coroutine object will sit around until something \"needs\" it and calls on it with the `await` keyword. Another way to run it is to use the `asyncio.run(func())` function of the module. \n",
    "\n",
    "Note that you can only call the `await` keyword inside an `async` function. However, in jupyter notebooks you can call `await` outside of an `async` function due to some top level features provided by the notebook environment. \n"
   ]
  }
 ],
 "metadata": {
  "kernelspec": {
   "display_name": "Python 3 (ipykernel)",
   "language": "python",
   "name": "python3"
  },
  "language_info": {
   "codemirror_mode": {
    "name": "ipython",
    "version": 3
   },
   "file_extension": ".py",
   "mimetype": "text/x-python",
   "name": "python",
   "nbconvert_exporter": "python",
   "pygments_lexer": "ipython3",
   "version": "3.10.4"
  }
 },
 "nbformat": 4,
 "nbformat_minor": 5
}
