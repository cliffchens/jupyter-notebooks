{
 "cells": [
  {
   "cell_type": "markdown",
   "id": "3e4f042b",
   "metadata": {},
   "source": [
    "# General Python project structure\n",
    "\n",
    "The general structure of a Python project is such that "
   ]
  },
  {
   "cell_type": "markdown",
   "id": "48a6b009",
   "metadata": {},
   "source": [
    "# Module Structure, Imports, Etc. \n",
    "\n"
   ]
  },
  {
   "cell_type": "markdown",
   "id": "fdcc9cf9",
   "metadata": {},
   "source": [
    "# PYTHON OS.PATH MODULE\n",
    "\n",
    "The path structure is dependent on the operating system that Python is running on. So Windows machines will naturallly use `ntpath` and Unix uses `posixpath`. If you want to use one specific convention over the other, you can instead import `posixpath` or `ntpath` which will provide the same interface as the `os.path` moodule. So you can use `import posixpath` to use the posix style path convention on a Windows machine if you want. \n",
    "\n",
    "`os.path.realpath`: Derefernces symbolic links to get the canonical path\n",
    "\n",
    "`os.path.split`: Splits path into tuple of (head, tail). The tail part will never contain a slash so if the path ends with a slash, then the tail will be empty. \n",
    "\n",
    "`os.path.normpath`: Takes a pathname and collapses redundant separators and up-level references. So on a posix system, `a//b` and `a/b/` and `a/./b` and `a/foo/../b` become `a/b` since the extra slashes or up-level references are redundant. On Windows, it can be used to convert forward slashes in path names to backward slashes. "
   ]
  }
 ],
 "metadata": {
  "kernelspec": {
   "display_name": "Python 3 (ipykernel)",
   "language": "python",
   "name": "python3"
  },
  "language_info": {
   "codemirror_mode": {
    "name": "ipython",
    "version": 3
   },
   "file_extension": ".py",
   "mimetype": "text/x-python",
   "name": "python",
   "nbconvert_exporter": "python",
   "pygments_lexer": "ipython3",
   "version": "3.10.4"
  }
 },
 "nbformat": 4,
 "nbformat_minor": 5
}
